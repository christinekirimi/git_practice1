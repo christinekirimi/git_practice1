{
 "cells": [
  {
   "cell_type": "code",
   "execution_count": null,
   "id": "ba39083e-e561-43f9-be71-45d3f3541136",
   "metadata": {},
   "outputs": [],
   "source": []
  }
 ],
 "metadata": {
  "kernelspec": {
   "display_name": "",
   "name": ""
  },
  "language_info": {
   "name": ""
  }
 },
 "nbformat": 4,
 "nbformat_minor": 5
}
