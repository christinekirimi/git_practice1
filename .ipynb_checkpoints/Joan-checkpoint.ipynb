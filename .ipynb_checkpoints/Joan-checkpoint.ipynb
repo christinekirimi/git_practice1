{
 "cells": [
  {
   "cell_type": "code",
   "execution_count": null,
   "id": "08ded55b-53cc-44b2-9aff-3a1a8efbfdd1",
   "metadata": {},
   "outputs": [],
   "source": []
  }
 ],
 "metadata": {
  "kernelspec": {
   "display_name": "Python (learn-env)",
   "language": "python",
   "name": "learn-env"
  },
  "language_info": {
   "name": ""
  }
 },
 "nbformat": 4,
 "nbformat_minor": 5
}
